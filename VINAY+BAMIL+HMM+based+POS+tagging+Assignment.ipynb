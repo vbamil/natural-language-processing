{
 "cells": [
  {
   "cell_type": "markdown",
   "metadata": {},
   "source": [
    "# POS tagging using modified Viterbi\n",
    "\n",
    "## Problem Statement:\n",
    "In this assignment, we need to \n",
    "- Modify the Viterbi algorithm to solve the problem of unknown words using at least two techniques.\n",
    "- Compare the tagging accuracy after making these modifications with the vanilla Viterbi algorithm.\n",
    "- List down at least three cases from the sample test file (i.e. unknown word-tag pairs) which were incorrectly tagged by the original Viterbi POS tagger and got corrected after your modifications.\n",
    "\n",
    "## Solution\n",
    "- Technique I: Using transition probability of tags when emission probability is zero because of unknown words\n",
    "- Technique II: Using bigram backed up by the rule based tagger for unknown words\n",
    "\n"
   ]
  },
  {
   "cell_type": "markdown",
   "metadata": {},
   "source": [
    "## Data Preparation"
   ]
  },
  {
   "cell_type": "code",
   "execution_count": 1,
   "metadata": {},
   "outputs": [],
   "source": [
    "#Importing libraries\n",
    "import nltk\n",
    "import numpy as np\n",
    "import pandas as pd\n",
    "import matplotlib.pyplot as plt\n",
    "import seaborn as sns\n",
    "import pprint, time\n",
    "import random\n",
    "from sklearn.model_selection import train_test_split\n",
    "from nltk.tokenize import word_tokenize"
   ]
  },
  {
   "cell_type": "code",
   "execution_count": 2,
   "metadata": {},
   "outputs": [],
   "source": [
    "# reading the Treebank tagged sentences\n",
    "nltk_data = list(nltk.corpus.treebank.tagged_sents(tagset='universal'))"
   ]
  },
  {
   "cell_type": "markdown",
   "metadata": {},
   "source": [
    "Now we have list of POS tag sentances from wsj corpus"
   ]
  },
  {
   "cell_type": "code",
   "execution_count": 3,
   "metadata": {},
   "outputs": [
    {
     "name": "stdout",
     "output_type": "stream",
     "text": [
      "[[('Pierre', 'NOUN'), ('Vinken', 'NOUN'), (',', '.'), ('61', 'NUM'), ('years', 'NOUN'), ('old', 'ADJ'), (',', '.'), ('will', 'VERB'), ('join', 'VERB'), ('the', 'DET'), ('board', 'NOUN'), ('as', 'ADP'), ('a', 'DET'), ('nonexecutive', 'ADJ'), ('director', 'NOUN'), ('Nov.', 'NOUN'), ('29', 'NUM'), ('.', '.')], [('Mr.', 'NOUN'), ('Vinken', 'NOUN'), ('is', 'VERB'), ('chairman', 'NOUN'), ('of', 'ADP'), ('Elsevier', 'NOUN'), ('N.V.', 'NOUN'), (',', '.'), ('the', 'DET'), ('Dutch', 'NOUN'), ('publishing', 'VERB'), ('group', 'NOUN'), ('.', '.')], [('Rudolph', 'NOUN'), ('Agnew', 'NOUN'), (',', '.'), ('55', 'NUM'), ('years', 'NOUN'), ('old', 'ADJ'), ('and', 'CONJ'), ('former', 'ADJ'), ('chairman', 'NOUN'), ('of', 'ADP'), ('Consolidated', 'NOUN'), ('Gold', 'NOUN'), ('Fields', 'NOUN'), ('PLC', 'NOUN'), (',', '.'), ('was', 'VERB'), ('named', 'VERB'), ('*-1', 'X'), ('a', 'DET'), ('nonexecutive', 'ADJ'), ('director', 'NOUN'), ('of', 'ADP'), ('this', 'DET'), ('British', 'ADJ'), ('industrial', 'ADJ'), ('conglomerate', 'NOUN'), ('.', '.')], [('A', 'DET'), ('form', 'NOUN'), ('of', 'ADP'), ('asbestos', 'NOUN'), ('once', 'ADV'), ('used', 'VERB'), ('*', 'X'), ('*', 'X'), ('to', 'PRT'), ('make', 'VERB'), ('Kent', 'NOUN'), ('cigarette', 'NOUN'), ('filters', 'NOUN'), ('has', 'VERB'), ('caused', 'VERB'), ('a', 'DET'), ('high', 'ADJ'), ('percentage', 'NOUN'), ('of', 'ADP'), ('cancer', 'NOUN'), ('deaths', 'NOUN'), ('among', 'ADP'), ('a', 'DET'), ('group', 'NOUN'), ('of', 'ADP'), ('workers', 'NOUN'), ('exposed', 'VERB'), ('*', 'X'), ('to', 'PRT'), ('it', 'PRON'), ('more', 'ADV'), ('than', 'ADP'), ('30', 'NUM'), ('years', 'NOUN'), ('ago', 'ADP'), (',', '.'), ('researchers', 'NOUN'), ('reported', 'VERB'), ('0', 'X'), ('*T*-1', 'X'), ('.', '.')], [('The', 'DET'), ('asbestos', 'NOUN'), ('fiber', 'NOUN'), (',', '.'), ('crocidolite', 'NOUN'), (',', '.'), ('is', 'VERB'), ('unusually', 'ADV'), ('resilient', 'ADJ'), ('once', 'ADP'), ('it', 'PRON'), ('enters', 'VERB'), ('the', 'DET'), ('lungs', 'NOUN'), (',', '.'), ('with', 'ADP'), ('even', 'ADV'), ('brief', 'ADJ'), ('exposures', 'NOUN'), ('to', 'PRT'), ('it', 'PRON'), ('causing', 'VERB'), ('symptoms', 'NOUN'), ('that', 'DET'), ('*T*-1', 'X'), ('show', 'VERB'), ('up', 'PRT'), ('decades', 'NOUN'), ('later', 'ADJ'), (',', '.'), ('researchers', 'NOUN'), ('said', 'VERB'), ('0', 'X'), ('*T*-2', 'X'), ('.', '.')]]\n"
     ]
    }
   ],
   "source": [
    "# Printing first two elements of above list. Note: each list is a sentance\n",
    "print(nltk_data[:5])"
   ]
  },
  {
   "cell_type": "markdown",
   "metadata": {},
   "source": [
    "### Splitting into Train and Test Sets"
   ]
  },
  {
   "cell_type": "code",
   "execution_count": 4,
   "metadata": {},
   "outputs": [
    {
     "name": "stdout",
     "output_type": "stream",
     "text": [
      "2739\n",
      "1175\n"
     ]
    }
   ],
   "source": [
    "# splitting into train and test\n",
    "random.seed(123)\n",
    "train_set, test_set = train_test_split(nltk_data, test_size=0.3)\n",
    "\n",
    "print(len(train_set))\n",
    "print(len(test_set))"
   ]
  },
  {
   "cell_type": "code",
   "execution_count": 5,
   "metadata": {},
   "outputs": [
    {
     "data": {
      "text/plain": [
       "[('The', 'DET'),\n",
       " ('Midwest', 'NOUN'),\n",
       " ('Financial', 'NOUN'),\n",
       " ('subsidiary', 'NOUN'),\n",
       " ('banks', 'NOUN'),\n",
       " ('will', 'VERB'),\n",
       " ('continue', 'VERB'),\n",
       " ('*-1', 'X'),\n",
       " ('to', 'PRT'),\n",
       " ('operate', 'VERB')]"
      ]
     },
     "execution_count": 5,
     "metadata": {},
     "output_type": "execute_result"
    }
   ],
   "source": [
    "# Getting list of tagged words in training set\n",
    "train_tagged_words = [tup for sent in train_set for tup in sent]\n",
    "len(train_tagged_words)\n",
    "train_tagged_words[:10]"
   ]
  },
  {
   "cell_type": "code",
   "execution_count": 6,
   "metadata": {},
   "outputs": [
    {
     "data": {
      "text/plain": [
       "[('He', 'PRON'),\n",
       " ('spends', 'VERB'),\n",
       " ('his', 'PRON'),\n",
       " ('days', 'NOUN'),\n",
       " ('*-1', 'X'),\n",
       " ('sketching', 'VERB'),\n",
       " ('passers-by', 'NOUN'),\n",
       " (',', '.'),\n",
       " ('or', 'CONJ'),\n",
       " ('*-1', 'X')]"
      ]
     },
     "execution_count": 6,
     "metadata": {},
     "output_type": "execute_result"
    }
   ],
   "source": [
    "# Getting list of tagged words in test set\n",
    "test_tagged_words = [tup for sent in test_set for tup in sent]\n",
    "len(test_tagged_words)\n",
    "test_tagged_words[:10]"
   ]
  },
  {
   "cell_type": "code",
   "execution_count": 7,
   "metadata": {},
   "outputs": [
    {
     "name": "stdout",
     "output_type": "stream",
     "text": [
      "['The', 'Midwest', 'Financial', 'subsidiary', 'banks', 'will', 'continue', '*-1', 'to', 'operate']\n"
     ]
    }
   ],
   "source": [
    "# Words in training set\n",
    "train_words = [pair[0] for pair in train_tagged_words]\n",
    "print(train_words[:10])"
   ]
  },
  {
   "cell_type": "code",
   "execution_count": 8,
   "metadata": {},
   "outputs": [
    {
     "name": "stdout",
     "output_type": "stream",
     "text": [
      "10307\n"
     ]
    }
   ],
   "source": [
    "# How many words are present in training set\n",
    "training_vocabulary_set = set(train_words)\n",
    "print(len(training_vocabulary_set))"
   ]
  },
  {
   "cell_type": "code",
   "execution_count": 9,
   "metadata": {},
   "outputs": [
    {
     "name": "stdout",
     "output_type": "stream",
     "text": [
      "12\n",
      "{'DET', 'PRON', 'VERB', 'PRT', 'ADJ', 'NUM', 'CONJ', '.', 'ADP', 'X', 'NOUN', 'ADV'}\n"
     ]
    }
   ],
   "source": [
    "# How many tags are present in training set\n",
    "training_pos_tag_set = set([pair[1] for pair in train_tagged_words])\n",
    "print(len(training_pos_tag_set))\n",
    "print(training_pos_tag_set)"
   ]
  },
  {
   "cell_type": "code",
   "execution_count": 10,
   "metadata": {},
   "outputs": [
    {
     "name": "stdout",
     "output_type": "stream",
     "text": [
      "['He', 'spends', 'his', 'days', '*-1', 'sketching', 'passers-by', ',', 'or', '*-1']\n"
     ]
    }
   ],
   "source": [
    "# Words in test set\n",
    "test_words = [pair[0] for pair in test_tagged_words]\n",
    "print(test_words[:10])"
   ]
  },
  {
   "cell_type": "code",
   "execution_count": 11,
   "metadata": {},
   "outputs": [
    {
     "name": "stdout",
     "output_type": "stream",
     "text": [
      "6182\n"
     ]
    }
   ],
   "source": [
    "# How many words are present in test set\n",
    "test_vocabulary_set = set(test_words)\n",
    "print(len(test_vocabulary_set))"
   ]
  },
  {
   "cell_type": "code",
   "execution_count": 12,
   "metadata": {},
   "outputs": [
    {
     "name": "stdout",
     "output_type": "stream",
     "text": [
      "12\n",
      "{'PRON', 'DET', 'VERB', 'PRT', 'ADJ', 'NUM', 'CONJ', '.', 'ADP', 'X', 'NOUN', 'ADV'}\n"
     ]
    }
   ],
   "source": [
    "# How many tags are present in test set\n",
    "test_pos_tag_set = set([pair[1] for pair in test_tagged_words])\n",
    "print(len(test_pos_tag_set))\n",
    "print(test_pos_tag_set)"
   ]
  },
  {
   "cell_type": "markdown",
   "metadata": {},
   "source": [
    "## Build the vanilla Viterbi based POS tagger"
   ]
  },
  {
   "cell_type": "markdown",
   "metadata": {},
   "source": [
    "### Emission Probability"
   ]
  },
  {
   "cell_type": "code",
   "execution_count": 13,
   "metadata": {},
   "outputs": [],
   "source": [
    "# Function to find the emission probability of a given word\n",
    "def word_given_tag(word, tag, train_bag = train_tagged_words):\n",
    "    tag_list = [pair for pair in train_bag if pair[1]==tag]\n",
    "    count_tag = len(tag_list)\n",
    "    w_given_tag_list = [pair[0] for pair in tag_list if pair[0]==word]\n",
    "    count_w_given_tag = len(w_given_tag_list)\n",
    "    \n",
    "    return (count_w_given_tag, count_tag)"
   ]
  },
  {
   "cell_type": "markdown",
   "metadata": {},
   "source": [
    "### Transition Probability"
   ]
  },
  {
   "cell_type": "code",
   "execution_count": 14,
   "metadata": {},
   "outputs": [],
   "source": [
    "# Function to find the transition probability of a given tag and previous tag\n",
    "\n",
    "def t2_given_t1(t2, t1, train_bag = train_tagged_words):\n",
    "    tags = [pair[1] for pair in train_bag]\n",
    "    count_t1 = len([t for t in tags if t==t1])\n",
    "    count_t2_t1 = 0\n",
    "    for index in range(len(tags)-1):\n",
    "        if tags[index]==t1 and tags[index+1] == t2:\n",
    "            count_t2_t1 += 1\n",
    "    return (count_t2_t1, count_t1)"
   ]
  },
  {
   "cell_type": "code",
   "execution_count": 15,
   "metadata": {},
   "outputs": [],
   "source": [
    "# computing P(w/t) and storing in Tags x Vocabulary matrix\n",
    "t = len(training_pos_tag_set)\n",
    "v = len(training_vocabulary_set)\n",
    "w_given_t = np.zeros((t, v))"
   ]
  },
  {
   "cell_type": "code",
   "execution_count": 16,
   "metadata": {},
   "outputs": [],
   "source": [
    "# creating t x t transition matrix of tags\n",
    "# each column is t2, each row is t1\n",
    "# thus M(i, j) represents P(tj given ti)\n",
    "\n",
    "tags_matrix = np.zeros((len(training_pos_tag_set), len(training_pos_tag_set)), dtype='float32')\n",
    "for i, t1 in enumerate(list(training_pos_tag_set)):\n",
    "    for j, t2 in enumerate(list(training_pos_tag_set)): \n",
    "        tags_matrix[i, j] = t2_given_t1(t2, t1)[0]/t2_given_t1(t2, t1)[1]"
   ]
  },
  {
   "cell_type": "code",
   "execution_count": 17,
   "metadata": {},
   "outputs": [
    {
     "data": {
      "text/html": [
       "<div>\n",
       "<style scoped>\n",
       "    .dataframe tbody tr th:only-of-type {\n",
       "        vertical-align: middle;\n",
       "    }\n",
       "\n",
       "    .dataframe tbody tr th {\n",
       "        vertical-align: top;\n",
       "    }\n",
       "\n",
       "    .dataframe thead th {\n",
       "        text-align: right;\n",
       "    }\n",
       "</style>\n",
       "<table border=\"1\" class=\"dataframe\">\n",
       "  <thead>\n",
       "    <tr style=\"text-align: right;\">\n",
       "      <th></th>\n",
       "      <th>DET</th>\n",
       "      <th>PRON</th>\n",
       "      <th>VERB</th>\n",
       "      <th>PRT</th>\n",
       "      <th>ADJ</th>\n",
       "      <th>NUM</th>\n",
       "      <th>CONJ</th>\n",
       "      <th>.</th>\n",
       "      <th>ADP</th>\n",
       "      <th>X</th>\n",
       "      <th>NOUN</th>\n",
       "      <th>ADV</th>\n",
       "    </tr>\n",
       "  </thead>\n",
       "  <tbody>\n",
       "    <tr>\n",
       "      <th>DET</th>\n",
       "      <td>0.005857</td>\n",
       "      <td>0.004230</td>\n",
       "      <td>0.038230</td>\n",
       "      <td>0.000163</td>\n",
       "      <td>0.206768</td>\n",
       "      <td>0.023101</td>\n",
       "      <td>0.000488</td>\n",
       "      <td>0.018383</td>\n",
       "      <td>0.009761</td>\n",
       "      <td>0.043273</td>\n",
       "      <td>0.636733</td>\n",
       "      <td>0.013014</td>\n",
       "    </tr>\n",
       "    <tr>\n",
       "      <th>PRON</th>\n",
       "      <td>0.009160</td>\n",
       "      <td>0.008142</td>\n",
       "      <td>0.475827</td>\n",
       "      <td>0.011196</td>\n",
       "      <td>0.072265</td>\n",
       "      <td>0.008651</td>\n",
       "      <td>0.006107</td>\n",
       "      <td>0.042239</td>\n",
       "      <td>0.023919</td>\n",
       "      <td>0.092621</td>\n",
       "      <td>0.215267</td>\n",
       "      <td>0.034606</td>\n",
       "    </tr>\n",
       "    <tr>\n",
       "      <th>VERB</th>\n",
       "      <td>0.135704</td>\n",
       "      <td>0.035346</td>\n",
       "      <td>0.170839</td>\n",
       "      <td>0.031138</td>\n",
       "      <td>0.067431</td>\n",
       "      <td>0.024406</td>\n",
       "      <td>0.006312</td>\n",
       "      <td>0.033453</td>\n",
       "      <td>0.089207</td>\n",
       "      <td>0.216495</td>\n",
       "      <td>0.108037</td>\n",
       "      <td>0.081633</td>\n",
       "    </tr>\n",
       "    <tr>\n",
       "      <th>PRT</th>\n",
       "      <td>0.094516</td>\n",
       "      <td>0.018725</td>\n",
       "      <td>0.407936</td>\n",
       "      <td>0.001783</td>\n",
       "      <td>0.087383</td>\n",
       "      <td>0.055729</td>\n",
       "      <td>0.001783</td>\n",
       "      <td>0.040571</td>\n",
       "      <td>0.020062</td>\n",
       "      <td>0.014267</td>\n",
       "      <td>0.246545</td>\n",
       "      <td>0.010700</td>\n",
       "    </tr>\n",
       "    <tr>\n",
       "      <th>ADJ</th>\n",
       "      <td>0.005045</td>\n",
       "      <td>0.000439</td>\n",
       "      <td>0.011406</td>\n",
       "      <td>0.011187</td>\n",
       "      <td>0.067339</td>\n",
       "      <td>0.019083</td>\n",
       "      <td>0.013819</td>\n",
       "      <td>0.067339</td>\n",
       "      <td>0.084010</td>\n",
       "      <td>0.021935</td>\n",
       "      <td>0.694012</td>\n",
       "      <td>0.004387</td>\n",
       "    </tr>\n",
       "    <tr>\n",
       "      <th>NUM</th>\n",
       "      <td>0.004003</td>\n",
       "      <td>0.001201</td>\n",
       "      <td>0.019215</td>\n",
       "      <td>0.024019</td>\n",
       "      <td>0.035629</td>\n",
       "      <td>0.185749</td>\n",
       "      <td>0.013611</td>\n",
       "      <td>0.116894</td>\n",
       "      <td>0.036429</td>\n",
       "      <td>0.215372</td>\n",
       "      <td>0.344676</td>\n",
       "      <td>0.003203</td>\n",
       "    </tr>\n",
       "    <tr>\n",
       "      <th>CONJ</th>\n",
       "      <td>0.121326</td>\n",
       "      <td>0.058161</td>\n",
       "      <td>0.155722</td>\n",
       "      <td>0.003127</td>\n",
       "      <td>0.110694</td>\n",
       "      <td>0.042527</td>\n",
       "      <td>0.000625</td>\n",
       "      <td>0.036273</td>\n",
       "      <td>0.060663</td>\n",
       "      <td>0.008130</td>\n",
       "      <td>0.350219</td>\n",
       "      <td>0.052533</td>\n",
       "    </tr>\n",
       "    <tr>\n",
       "      <th>.</th>\n",
       "      <td>0.174399</td>\n",
       "      <td>0.065339</td>\n",
       "      <td>0.089385</td>\n",
       "      <td>0.002550</td>\n",
       "      <td>0.045300</td>\n",
       "      <td>0.079548</td>\n",
       "      <td>0.060602</td>\n",
       "      <td>0.090843</td>\n",
       "      <td>0.091329</td>\n",
       "      <td>0.025747</td>\n",
       "      <td>0.225285</td>\n",
       "      <td>0.049551</td>\n",
       "    </tr>\n",
       "    <tr>\n",
       "      <th>ADP</th>\n",
       "      <td>0.326308</td>\n",
       "      <td>0.073118</td>\n",
       "      <td>0.008459</td>\n",
       "      <td>0.001434</td>\n",
       "      <td>0.104516</td>\n",
       "      <td>0.065520</td>\n",
       "      <td>0.000717</td>\n",
       "      <td>0.040143</td>\n",
       "      <td>0.018495</td>\n",
       "      <td>0.034122</td>\n",
       "      <td>0.313692</td>\n",
       "      <td>0.013477</td>\n",
       "    </tr>\n",
       "    <tr>\n",
       "      <th>X</th>\n",
       "      <td>0.052893</td>\n",
       "      <td>0.056995</td>\n",
       "      <td>0.205527</td>\n",
       "      <td>0.188040</td>\n",
       "      <td>0.018351</td>\n",
       "      <td>0.002159</td>\n",
       "      <td>0.009931</td>\n",
       "      <td>0.160622</td>\n",
       "      <td>0.144862</td>\n",
       "      <td>0.075130</td>\n",
       "      <td>0.059370</td>\n",
       "      <td>0.026123</td>\n",
       "    </tr>\n",
       "    <tr>\n",
       "      <th>NOUN</th>\n",
       "      <td>0.012686</td>\n",
       "      <td>0.005064</td>\n",
       "      <td>0.144852</td>\n",
       "      <td>0.043023</td>\n",
       "      <td>0.012587</td>\n",
       "      <td>0.008998</td>\n",
       "      <td>0.042138</td>\n",
       "      <td>0.240977</td>\n",
       "      <td>0.176271</td>\n",
       "      <td>0.029059</td>\n",
       "      <td>0.267725</td>\n",
       "      <td>0.016619</td>\n",
       "    </tr>\n",
       "    <tr>\n",
       "      <th>ADV</th>\n",
       "      <td>0.067090</td>\n",
       "      <td>0.014506</td>\n",
       "      <td>0.342248</td>\n",
       "      <td>0.012239</td>\n",
       "      <td>0.132820</td>\n",
       "      <td>0.026292</td>\n",
       "      <td>0.006800</td>\n",
       "      <td>0.135539</td>\n",
       "      <td>0.121034</td>\n",
       "      <td>0.024479</td>\n",
       "      <td>0.033092</td>\n",
       "      <td>0.083862</td>\n",
       "    </tr>\n",
       "  </tbody>\n",
       "</table>\n",
       "</div>"
      ],
      "text/plain": [
       "           DET      PRON      VERB       PRT       ADJ       NUM      CONJ  \\\n",
       "DET   0.005857  0.004230  0.038230  0.000163  0.206768  0.023101  0.000488   \n",
       "PRON  0.009160  0.008142  0.475827  0.011196  0.072265  0.008651  0.006107   \n",
       "VERB  0.135704  0.035346  0.170839  0.031138  0.067431  0.024406  0.006312   \n",
       "PRT   0.094516  0.018725  0.407936  0.001783  0.087383  0.055729  0.001783   \n",
       "ADJ   0.005045  0.000439  0.011406  0.011187  0.067339  0.019083  0.013819   \n",
       "NUM   0.004003  0.001201  0.019215  0.024019  0.035629  0.185749  0.013611   \n",
       "CONJ  0.121326  0.058161  0.155722  0.003127  0.110694  0.042527  0.000625   \n",
       ".     0.174399  0.065339  0.089385  0.002550  0.045300  0.079548  0.060602   \n",
       "ADP   0.326308  0.073118  0.008459  0.001434  0.104516  0.065520  0.000717   \n",
       "X     0.052893  0.056995  0.205527  0.188040  0.018351  0.002159  0.009931   \n",
       "NOUN  0.012686  0.005064  0.144852  0.043023  0.012587  0.008998  0.042138   \n",
       "ADV   0.067090  0.014506  0.342248  0.012239  0.132820  0.026292  0.006800   \n",
       "\n",
       "             .       ADP         X      NOUN       ADV  \n",
       "DET   0.018383  0.009761  0.043273  0.636733  0.013014  \n",
       "PRON  0.042239  0.023919  0.092621  0.215267  0.034606  \n",
       "VERB  0.033453  0.089207  0.216495  0.108037  0.081633  \n",
       "PRT   0.040571  0.020062  0.014267  0.246545  0.010700  \n",
       "ADJ   0.067339  0.084010  0.021935  0.694012  0.004387  \n",
       "NUM   0.116894  0.036429  0.215372  0.344676  0.003203  \n",
       "CONJ  0.036273  0.060663  0.008130  0.350219  0.052533  \n",
       ".     0.090843  0.091329  0.025747  0.225285  0.049551  \n",
       "ADP   0.040143  0.018495  0.034122  0.313692  0.013477  \n",
       "X     0.160622  0.144862  0.075130  0.059370  0.026123  \n",
       "NOUN  0.240977  0.176271  0.029059  0.267725  0.016619  \n",
       "ADV   0.135539  0.121034  0.024479  0.033092  0.083862  "
      ]
     },
     "execution_count": 17,
     "metadata": {},
     "output_type": "execute_result"
    }
   ],
   "source": [
    "# convert the matrix to a df for better readability\n",
    "tags_df = pd.DataFrame(tags_matrix, columns = list(training_pos_tag_set), index=list(training_pos_tag_set))\n",
    "tags_df"
   ]
  },
  {
   "cell_type": "markdown",
   "metadata": {},
   "source": [
    "### Exploratory Data Analysis"
   ]
  },
  {
   "cell_type": "code",
   "execution_count": 18,
   "metadata": {},
   "outputs": [
    {
     "data": {
      "image/png": "[encoded data removed]",
      "text/plain": [
       "<Figure size 1296x864 with 2 Axes>"
      ]
     },
     "metadata": {
      "needs_background": "light"
     },
     "output_type": "display_data"
    }
   ],
   "source": [
    "# heatmap of tags matrix\n",
    "# T(i, j) means P(tag j given tag i)\n",
    "plt.figure(figsize=(18, 12))\n",
    "sns.heatmap(tags_df,annot = True)\n",
    "plt.show()\n"
   ]
  },
  {
   "cell_type": "code",
   "execution_count": 19,
   "metadata": {},
   "outputs": [
    {
     "data": {
      "image/png": "[encoded data removed]",
      "text/plain": [
       "<Figure size 1296x864 with 2 Axes>"
      ]
     },
     "metadata": {
      "needs_background": "light"
     },
     "output_type": "display_data"
    }
   ],
   "source": [
    "# frequent tags\n",
    "# filter the df to get P(t2, t1) > 0.5\n",
    "tags_frequent = tags_df[tags_df>0.5]\n",
    "plt.figure(figsize=(18, 12))\n",
    "sns.heatmap(tags_frequent,annot = True)\n",
    "plt.show()"
   ]
  },
  {
   "cell_type": "markdown",
   "metadata": {},
   "source": [
    "## Viterbi Algorithm\n",
    "\n",
    "Below steps are followed:\n",
    "\n",
    "- We'll run through each word w and compute P(tag/w)=P(w/tag).P(tag) for each tag in the tag set.\n",
    "- Assign the tag having the max P(tag/w).\n",
    "- Store the assigned tags in a list of tuples, similar to the list 'train_tagged_words'. \n",
    "- Each tuple will be a (token, assigned_tag). \n",
    "- As we progress further in the list, each tag to be assigned will use the tag of the previous token.\n",
    "\n",
    "Note: P(tag|start) = P(tag|'.') "
   ]
  },
  {
   "cell_type": "code",
   "execution_count": 20,
   "metadata": {},
   "outputs": [
    {
     "data": {
      "text/plain": [
       "70902"
      ]
     },
     "execution_count": 20,
     "metadata": {},
     "output_type": "execute_result"
    }
   ],
   "source": [
    "len(train_tagged_words)"
   ]
  },
  {
   "cell_type": "code",
   "execution_count": 21,
   "metadata": {},
   "outputs": [],
   "source": [
    "# Viterbi Heuristic\n",
    "def Viterbi(words, train_bag = train_tagged_words):\n",
    "    state = []\n",
    "    T = list(set([pair[1] for pair in train_bag]))\n",
    "    \n",
    "    for key, word in enumerate(words):\n",
    "        #initialise list of probability column for a given observation\n",
    "        p = [] \n",
    "        for tag in T:\n",
    "            if key == 0:\n",
    "                transition_p = tags_df.loc['.', tag]\n",
    "            else:\n",
    "                transition_p = tags_df.loc[state[-1], tag]\n",
    "                \n",
    "            # compute emission and state probabilities\n",
    "            emission_p = word_given_tag(words[key], tag)[0]/word_given_tag(words[key], tag)[1]\n",
    "            state_probability = emission_p * transition_p    \n",
    "            p.append(state_probability)\n",
    "            \n",
    "        pmax = max(p)\n",
    "        # getting state for which probability is maximum\n",
    "        state_max = T[p.index(pmax)] \n",
    "        state.append(state_max)\n",
    "    return list(zip(words, state))\n",
    "\n"
   ]
  },
  {
   "cell_type": "code",
   "execution_count": 22,
   "metadata": {},
   "outputs": [
    {
     "data": {
      "text/plain": [
       "[[('And', 'CONJ'),\n",
       "  ('some', 'DET'),\n",
       "  ('investment', 'NOUN'),\n",
       "  ('bankers', 'NOUN'),\n",
       "  ('say', 'VERB'),\n",
       "  ('0', 'X'),\n",
       "  ('a', 'DET'),\n",
       "  ('restructuring', 'NOUN'),\n",
       "  ('is', 'VERB'),\n",
       "  (\"n't\", 'ADV'),\n",
       "  ('feasible', 'ADJ'),\n",
       "  ('while', 'ADP'),\n",
       "  ('the', 'DET'),\n",
       "  ('SEC', 'NOUN'),\n",
       "  ('still', 'ADV'),\n",
       "  ('is', 'VERB'),\n",
       "  ('scrutinizing', 'VERB'),\n",
       "  ('Mr.', 'NOUN'),\n",
       "  ('Spiegel', 'NOUN'),\n",
       "  (\"'s\", 'PRT'),\n",
       "  ('past', 'ADJ'),\n",
       "  ('junk-bond', 'NOUN'),\n",
       "  ('trades', 'NOUN'),\n",
       "  ('.', '.')],\n",
       " [('Despite', 'ADP'),\n",
       "  ('recent', 'ADJ'),\n",
       "  ('declines', 'NOUN'),\n",
       "  ('in', 'ADP'),\n",
       "  ('yields', 'NOUN'),\n",
       "  (',', '.'),\n",
       "  ('investors', 'NOUN'),\n",
       "  ('continue', 'VERB'),\n",
       "  ('*-1', 'X'),\n",
       "  ('to', 'PRT'),\n",
       "  ('pour', 'VERB'),\n",
       "  ('cash', 'NOUN'),\n",
       "  ('into', 'ADP'),\n",
       "  ('money', 'NOUN'),\n",
       "  ('funds', 'NOUN'),\n",
       "  ('.', '.')],\n",
       " [('Bordeaux', 'NOUN'),\n",
       "  (\"'s\", 'PRT'),\n",
       "  ('first', 'ADJ'),\n",
       "  ('growths', 'NOUN'),\n",
       "  ('from', 'ADP'),\n",
       "  ('1985', 'NUM'),\n",
       "  ('and', 'CONJ'),\n",
       "  ('1986', 'NUM'),\n",
       "  ('are', 'VERB'),\n",
       "  ('$', '.'),\n",
       "  ('60', 'NUM'),\n",
       "  ('to', 'PRT'),\n",
       "  ('$', '.'),\n",
       "  ('80', 'NUM'),\n",
       "  ('*U*', 'X'),\n",
       "  ('each', 'DET'),\n",
       "  ('-LRB-', '.'),\n",
       "  ('except', 'ADP'),\n",
       "  ('for', 'ADP'),\n",
       "  ('the', 'DET'),\n",
       "  ('smallest', 'ADJ'),\n",
       "  ('in', 'ADP'),\n",
       "  ('terms', 'NOUN'),\n",
       "  ('of', 'ADP'),\n",
       "  ('production', 'NOUN'),\n",
       "  (',', '.'),\n",
       "  ('Chateau', 'NOUN'),\n",
       "  ('Petrus', 'NOUN'),\n",
       "  (',', '.'),\n",
       "  ('which', 'DET'),\n",
       "  ('*T*-162', 'X'),\n",
       "  ('costs', 'VERB'),\n",
       "  ('around', 'ADV'),\n",
       "  ('$', '.'),\n",
       "  ('250', 'NUM'),\n",
       "  ('*U*', 'X'),\n",
       "  ('!', '.'),\n",
       "  ('-RRB-', '.'),\n",
       "  ('.', '.')],\n",
       " [('In', 'ADP'),\n",
       "  ('1973', 'NUM'),\n",
       "  (',', '.'),\n",
       "  ('Wells', 'NOUN'),\n",
       "  ('Fargo', 'NOUN'),\n",
       "  ('&', 'CONJ'),\n",
       "  ('Co.', 'NOUN'),\n",
       "  ('of', 'ADP'),\n",
       "  ('San', 'NOUN'),\n",
       "  ('Francisco', 'NOUN'),\n",
       "  ('launched', 'VERB'),\n",
       "  ('the', 'DET'),\n",
       "  ('Gold', 'NOUN'),\n",
       "  ('Account', 'NOUN'),\n",
       "  (',', '.'),\n",
       "  ('which', 'DET'),\n",
       "  ('*T*-198', 'X'),\n",
       "  ('included', 'VERB'),\n",
       "  ('free', 'ADJ'),\n",
       "  ('checking', 'NOUN'),\n",
       "  (',', '.'),\n",
       "  ('a', 'DET'),\n",
       "  ('credit', 'NOUN'),\n",
       "  ('card', 'NOUN'),\n",
       "  (',', '.'),\n",
       "  ('safe-deposit', 'ADJ'),\n",
       "  ('box', 'NOUN'),\n",
       "  ('and', 'CONJ'),\n",
       "  ('travelers', 'NOUN'),\n",
       "  ('checks', 'NOUN'),\n",
       "  ('for', 'ADP'),\n",
       "  ('a', 'DET'),\n",
       "  ('$', '.'),\n",
       "  ('3', 'NUM'),\n",
       "  ('*U*', 'X'),\n",
       "  ('monthly', 'ADJ'),\n",
       "  ('fee', 'NOUN'),\n",
       "  ('.', '.')],\n",
       " [('These', 'DET'),\n",
       "  ('individuals', 'NOUN'),\n",
       "  ('may', 'VERB'),\n",
       "  ('not', 'ADV'),\n",
       "  ('necessarily', 'ADV'),\n",
       "  ('be', 'VERB'),\n",
       "  ('under', 'ADP'),\n",
       "  ('investigation', 'NOUN'),\n",
       "  ('when', 'ADV'),\n",
       "  ('they', 'PRON'),\n",
       "  ('hire', 'VERB'),\n",
       "  ('lawyers', 'NOUN'),\n",
       "  ('*T*-1', 'X'),\n",
       "  ('.', '.')]]"
      ]
     },
     "execution_count": 22,
     "metadata": {},
     "output_type": "execute_result"
    }
   ],
   "source": [
    "# Let's test our Viterbi algorithm on a few sample sentences of test dataset\n",
    "\n",
    "random.seed(1234)\n",
    "\n",
    "# choose random 5 sents\n",
    "rndom = [random.randint(1,len(test_set)) for x in range(5)]\n",
    "\n",
    "# list of sents\n",
    "test_run = [test_set[i] for i in rndom]\n",
    "\n",
    "# list of tagged words\n",
    "test_run_base = [tup for sent in test_run for tup in sent]\n",
    "\n",
    "# list of untagged words\n",
    "test_tagged_words = [tup[0] for sent in test_run for tup in sent]\n",
    "test_run"
   ]
  },
  {
   "cell_type": "code",
   "execution_count": 23,
   "metadata": {},
   "outputs": [
    {
     "name": "stdout",
     "output_type": "stream",
     "text": [
      "Time taken in seconds :  13.91980791091919\n",
      "Vanilla Viterbi Algorithm Accuracy :  90.07633587786259\n"
     ]
    }
   ],
   "source": [
    "# tagging the test sentences\n",
    "start = time.time()\n",
    "tagged_seq = Viterbi(test_tagged_words)\n",
    "end = time.time()\n",
    "difference = end-start\n",
    "print('Time taken in seconds : ', difference)\n",
    "\n",
    "# accuracy\n",
    "check = [i for i, j in zip(tagged_seq, test_run_base) if i == j] \n",
    "vanilla_viterbi_accuracy = len(check)/len(tagged_seq)\n",
    "print(\"Vanilla Viterbi Algorithm Accuracy : \", vanilla_viterbi_accuracy*100)"
   ]
  },
  {
   "cell_type": "code",
   "execution_count": 24,
   "metadata": {},
   "outputs": [
    {
     "name": "stdout",
     "output_type": "stream",
     "text": [
      "Total Incorrect Tagged Words : 13\n",
      "\n",
      "\n",
      "Incorrect Tagged Words : [[('to', 'PRT'), (('pour', 'DET'), ('pour', 'VERB'))], [('the', 'DET'), (('smallest', 'DET'), ('smallest', 'ADJ'))], [('which', 'DET'), (('*T*-162', 'DET'), ('*T*-162', 'X'))], [('*T*-162', 'X'), (('costs', 'NOUN'), ('costs', 'VERB'))], [('costs', 'VERB'), (('around', 'ADP'), ('around', 'ADV'))], [('In', 'ADP'), (('1973', 'DET'), ('1973', 'NUM'))], [(',', '.'), (('Wells', 'DET'), ('Wells', 'NOUN'))], [('Wells', 'NOUN'), (('Fargo', 'DET'), ('Fargo', 'NOUN'))], [('Gold', 'NOUN'), (('Account', 'DET'), ('Account', 'NOUN'))], [('which', 'DET'), (('*T*-198', 'DET'), ('*T*-198', 'X'))], [(',', '.'), (('safe-deposit', 'DET'), ('safe-deposit', 'ADJ'))], [('and', 'CONJ'), (('travelers', 'DET'), ('travelers', 'NOUN'))], [('under', 'ADP'), (('investigation', 'DET'), ('investigation', 'NOUN'))]]\n"
     ]
    }
   ],
   "source": [
    "# Check the incorrect tagged words\n",
    "incorrect_tagged_words = [[test_run_base[i-1],j] for i, j in enumerate(zip(tagged_seq, test_run_base)) if j[0]!=j[1]]\n",
    "\n",
    "print(\"Total Incorrect Tagged Words :\", len(incorrect_tagged_words))\n",
    "print(\"\\n\")\n",
    "print(\"Incorrect Tagged Words :\", incorrect_tagged_words)"
   ]
  },
  {
   "cell_type": "markdown",
   "metadata": {},
   "source": [
    "## Solve the problem of unknown words"
   ]
  },
  {
   "cell_type": "markdown",
   "metadata": {},
   "source": [
    "### Using Lexicon and Rule-Based Models for POS Tagging"
   ]
  },
  {
   "cell_type": "code",
   "execution_count": 25,
   "metadata": {},
   "outputs": [
    {
     "name": "stdout",
     "output_type": "stream",
     "text": [
      "The accuracy of the Unigram Tagger is : 0.8916168469134144\n"
     ]
    }
   ],
   "source": [
    "# Lexicon (or unigram) tagger\n",
    "unigram_tagger = nltk.UnigramTagger(train_set)\n",
    "unigram_tagger_accuracy = unigram_tagger.evaluate(test_set)\n",
    "\n",
    "print(\"The accuracy of the Unigram Tagger is :\", unigram_tagger_accuracy)"
   ]
  },
  {
   "cell_type": "markdown",
   "metadata": {},
   "source": [
    "Combining the unigram tagger with a rule based regex tagger."
   ]
  },
  {
   "cell_type": "code",
   "execution_count": 26,
   "metadata": {},
   "outputs": [],
   "source": [
    "# patterns for tagging using a rule based regex tagger\n",
    "\n",
    "patterns = [\n",
    "    (r'^[aA-zZ].*[0-9]+','NOUN'),  # Alpha Numeric\n",
    "    (r'.*ness$', 'NOUN'),\n",
    "    (r'.*\\'s$', 'NOUN'),              # possessive nouns\n",
    "    (r'.*s$', 'NOUN'),                # plural nouns\n",
    "    (r'.*', 'NOUN'),    \n",
    "    (r'.*ly$', 'ADV'),\n",
    "    (r'^(0|([*|-|$].*))','X'), # Any special character combination\n",
    "    (r'.*ould$', 'X'), # modals\n",
    "    (r'(The|the|A|a|An|an)$', 'DET'),\n",
    "    (r'^([0-9]|[aA-zZ])+\\-[aA-zZ]*$','ADJ'),\n",
    "    (r'.*able$', 'ADJ'), # adjective like 100-megabytes 237-Seats\n",
    "    (r'[aA-zZ]+(ed|ing|es)$', 'VERB'), # Any word ending with 'ing' or 'ed' is a verb\n",
    "    (r'[0-9].?[,\\/]?[0-9]*','NUM')# Numbers \n",
    "    ]"
   ]
  },
  {
   "cell_type": "code",
   "execution_count": 27,
   "metadata": {},
   "outputs": [
    {
     "name": "stdout",
     "output_type": "stream",
     "text": [
      "The accuracy of the Unigram Tagger backed up by the Rule based is :  0.9302747363471485\n"
     ]
    }
   ],
   "source": [
    "# rule based tagger\n",
    "\n",
    "rule_based_tagger = nltk.RegexpTagger(patterns)\n",
    "\n",
    "# unigram tagger backed up by the rule-based tagger\n",
    "rule_based_unigram_tagger = nltk.UnigramTagger(train_set, backoff = rule_based_tagger)\n",
    "\n",
    "rule_based_unigram_tagger_accuracy = rule_based_unigram_tagger.evaluate(test_set)\n",
    "\n",
    "print(\"The accuracy of the Unigram Tagger backed up by the Rule based is : \", rule_based_unigram_tagger_accuracy)"
   ]
  },
  {
   "cell_type": "code",
   "execution_count": 28,
   "metadata": {},
   "outputs": [
    {
     "name": "stdout",
     "output_type": "stream",
     "text": [
      "The accuracy of the Bigram Tagger backed up by unigram tagger backed up by rule-based tagger is :  0.9338348895009069\n"
     ]
    }
   ],
   "source": [
    "# Bigram tagger\n",
    "\n",
    "bigram_tagger = nltk.BigramTagger(train_set, backoff=rule_based_unigram_tagger)\n",
    "bigram_tagger.evaluate(test_set)\n",
    "bigram_rule_based_unigram_tagger_accuracy = bigram_tagger.evaluate(test_set)\n",
    "print(\"The accuracy of the Bigram Tagger backed up by unigram tagger backed up by rule-based tagger is : \", bigram_rule_based_unigram_tagger_accuracy)"
   ]
  },
  {
   "cell_type": "markdown",
   "metadata": {},
   "source": [
    "\n",
    "Let's now modify the viterbi algorithm to use this bigram tagger as a back-off.\n",
    "When the viterbi algorithm is not able to tag an unknown word, it uses the rule-based tagger."
   ]
  },
  {
   "cell_type": "markdown",
   "metadata": {},
   "source": [
    "# Viterbi Modification-Technique I"
   ]
  },
  {
   "cell_type": "code",
   "execution_count": 29,
   "metadata": {},
   "outputs": [],
   "source": [
    "# Use transition probability of tags when emission probability is zero because of unknown words\n",
    "\n",
    "def Viterbi_Unknown_Words(words, train_bag = train_tagged_words):\n",
    "    state = []\n",
    "    T = list(set([pair[1] for pair in train_bag]))\n",
    "    \n",
    "    for key, word in enumerate(words):\n",
    "        #initialise list of probability column for a given observation\n",
    "        p = [] \n",
    "        p_transition =[] # list for storing transition probabilities\n",
    "        for tag in T:\n",
    "            if key == 0:\n",
    "                transition_p = tags_df.loc['.', tag]\n",
    "            else:\n",
    "                transition_p = tags_df.loc[state[-1], tag]\n",
    "                \n",
    "            # compute emission and state probabilities\n",
    "            emission_p = word_given_tag(words[key], tag)[0]/word_given_tag(words[key], tag)[1]\n",
    "            state_probability = emission_p * transition_p    \n",
    "            p.append(state_probability)\n",
    "            p_transition.append(transition_p)\n",
    "            \n",
    "        pmax = max(p)\n",
    "        state_max = T[p.index(pmax)] \n",
    "              \n",
    "        # if probability is zero because unknown words then use transition probability\n",
    "        if(pmax==0):\n",
    "            pmax = max(p_transition)\n",
    "            state_max = T[p_transition.index(pmax)]\n",
    "                           \n",
    "        else:\n",
    "            state_max = T[p.index(pmax)] \n",
    "        \n",
    "        state.append(state_max)\n",
    "    return list(zip(words, state))"
   ]
  },
  {
   "cell_type": "code",
   "execution_count": 30,
   "metadata": {},
   "outputs": [
    {
     "name": "stdout",
     "output_type": "stream",
     "text": [
      "Time taken in seconds :  14.424712181091309\n",
      "Viterbi Unknown Words Accuracy :  93.89312977099237\n"
     ]
    }
   ],
   "source": [
    "# tagging the test sentences\n",
    "start = time.time()\n",
    "tagged_seq = Viterbi_Unknown_Words(test_tagged_words)\n",
    "end = time.time()\n",
    "difference = end-start\n",
    "\n",
    "print('Time taken in seconds : ', difference)\n",
    "\n",
    "# accuracy\n",
    "check = [i for i, j in zip(tagged_seq, test_run_base) if i == j] \n",
    "vanilla_viterbi_modified_accuracy = len(check)/len(tagged_seq)\n",
    "print('Viterbi Unknown Words Accuracy : ', vanilla_viterbi_modified_accuracy*100)"
   ]
  },
  {
   "cell_type": "markdown",
   "metadata": {},
   "source": [
    "# Viterbi Modification-Technique II"
   ]
  },
  {
   "cell_type": "code",
   "execution_count": 31,
   "metadata": {},
   "outputs": [],
   "source": [
    "# A bigram tagger backed off by a rule based tagger.\n",
    "\n",
    "def bigram_tagger(word, train_set = train_set):\n",
    "    \n",
    "    patterns = [\n",
    "    (r'[aA-zZ]+(ed|ing|es)$', 'VERB'), # Any word ending with 'ing' or 'ed' is a verb\n",
    "\n",
    "    (r'.*ly$', 'ADV'),\n",
    "        \n",
    "    (r'^([0-9]|[aA-zZ])+\\-[aA-zZ]*$','ADJ'),\n",
    "    (r'.*able$', 'ADJ'), \n",
    "    (r'.*ful$', 'ADJ'),\n",
    "    (r'.*ous$', 'ADJ'),\n",
    "        \n",
    "    (r'^[aA-zZ].*[0-9]+','NOUN'),     # Alpha Numeric\n",
    "    (r'.*ness$', 'NOUN'),\n",
    "    (r'.*\\'s$', 'NOUN'),              # possessive nouns - words ending with 's\n",
    "    (r'.*s$', 'NOUN'),                # plural nouns\n",
    "    (r'.*ers$', 'NOUN'),              # eg.- kinderganteners, autobioghapgers\n",
    "    (r'.*ment$', 'NOUN'),\n",
    "    (r'.*town$', 'NOUN'),\n",
    "        \n",
    "    (r'^(0|([*|-|$].*))','X'), # Any special character combination\n",
    "    (r'.*ould$', 'X'),\n",
    "        \n",
    "    (r'(The|the|A|a|An|an|That|that|This|this|Those|those|These|these)$', 'DET'), # That/this/these/those belong to the category of Demonstrative determiners\n",
    "    (r'[0-9].?[,\\/]?[0-9]*','NUM'), # Numbers \n",
    "        \n",
    "    (r'.*', 'NOUN')\n",
    "    ]\n",
    "\n",
    "    regex_based_tagger = nltk.RegexpTagger(patterns)\n",
    "\n",
    "    # bigram backed up by the regex tagger\n",
    "    bigram_regex_tagger = nltk.BigramTagger(train_set, backoff = regex_based_tagger)\n",
    "    return bigram_regex_tagger.tag_sents([[(word)]])"
   ]
  },
  {
   "cell_type": "code",
   "execution_count": 32,
   "metadata": {},
   "outputs": [],
   "source": [
    "# Using bigram backed up by the regex tagger for unknown words\n",
    "\n",
    "def Viterbi_Bigram_Tagger(words, train_bag = train_tagged_words):\n",
    "    state = []\n",
    "    T = list(set([pair[1] for pair in train_bag]))\n",
    "    \n",
    "    for key, word in enumerate(words):\n",
    "        # unknown words from bigram tagger\n",
    "        if word not in training_vocabulary_set:\n",
    "            unk_word_tag = bigram_tagger(word)\n",
    "            for sent in unk_word_tag:\n",
    "                for tup in sent:\n",
    "                    state.append(tup[1])                    \n",
    "        else:            \n",
    "            p = [] \n",
    "            for tag in T:\n",
    "                if key == 0:\n",
    "                    transition_p = tags_df.loc['.', tag]\n",
    "                else:\n",
    "                    transition_p = tags_df.loc[state[-1], tag]\n",
    "                \n",
    "            # compute emission and state probabilities\n",
    "                emission_p = word_given_tag(words[key], tag)[0]/word_given_tag(words[key], tag)[1]\n",
    "                state_probability = emission_p * transition_p    \n",
    "                p.append(state_probability)\n",
    "            \n",
    "            pmax = max(p)\n",
    "            # getting state for which probability is maximum\n",
    "            state_max = T[p.index(pmax)] \n",
    "            state.append(state_max)\n",
    "            \n",
    "    return list(zip(words, state))"
   ]
  },
  {
   "cell_type": "markdown",
   "metadata": {},
   "source": [
    "#### Evaluating tagging accuracy"
   ]
  },
  {
   "cell_type": "code",
   "execution_count": 33,
   "metadata": {},
   "outputs": [
    {
     "name": "stdout",
     "output_type": "stream",
     "text": [
      "Time taken in seconds :  25.80893588066101\n",
      "Viterbi Bigram Tagger Accuracy :  97.70992366412213\n"
     ]
    }
   ],
   "source": [
    "# tagging the test sentences\n",
    "start = time.time()\n",
    "tagged_seq = Viterbi_Bigram_Tagger(test_tagged_words)\n",
    "end = time.time()\n",
    "difference = end-start\n",
    "\n",
    "print(\"Time taken in seconds : \", difference)\n",
    "\n",
    "# accuracy\n",
    "viterbi_bigram_word_check = [i for i, j in zip(tagged_seq, test_run_base) if i == j] \n",
    "viterbi_bigram_accuracy = len(viterbi_bigram_word_check)/len(tagged_seq) * 100\n",
    "print('Viterbi Bigram Tagger Accuracy : ', viterbi_bigram_accuracy)"
   ]
  },
  {
   "cell_type": "markdown",
   "metadata": {},
   "source": [
    "## Compare the tagging accuracies of the modifications with the vanilla Viterbi algorithm"
   ]
  },
  {
   "cell_type": "code",
   "execution_count": 34,
   "metadata": {},
   "outputs": [
    {
     "data": {
      "text/html": [
       "<div>\n",
       "<style scoped>\n",
       "    .dataframe tbody tr th:only-of-type {\n",
       "        vertical-align: middle;\n",
       "    }\n",
       "\n",
       "    .dataframe tbody tr th {\n",
       "        vertical-align: top;\n",
       "    }\n",
       "\n",
       "    .dataframe thead th {\n",
       "        text-align: right;\n",
       "    }\n",
       "</style>\n",
       "<table border=\"1\" class=\"dataframe\">\n",
       "  <thead>\n",
       "    <tr style=\"text-align: right;\">\n",
       "      <th></th>\n",
       "      <th>Tagging_Accuracy</th>\n",
       "    </tr>\n",
       "    <tr>\n",
       "      <th>Tagging_Algorithm</th>\n",
       "      <th></th>\n",
       "    </tr>\n",
       "  </thead>\n",
       "  <tbody>\n",
       "    <tr>\n",
       "      <th>Vanilla Viterbi</th>\n",
       "      <td>0.900763</td>\n",
       "    </tr>\n",
       "    <tr>\n",
       "      <th>Vanilla Viterbi Modified</th>\n",
       "      <td>0.938931</td>\n",
       "    </tr>\n",
       "    <tr>\n",
       "      <th>Unigram Tagger</th>\n",
       "      <td>89.161685</td>\n",
       "    </tr>\n",
       "    <tr>\n",
       "      <th>Rule Based + Unigram</th>\n",
       "      <td>93.027474</td>\n",
       "    </tr>\n",
       "    <tr>\n",
       "      <th>Bigram Tagger + Rule Based + Unigram</th>\n",
       "      <td>93.383489</td>\n",
       "    </tr>\n",
       "    <tr>\n",
       "      <th>Viterbi + Bigram_tagger</th>\n",
       "      <td>97.709924</td>\n",
       "    </tr>\n",
       "  </tbody>\n",
       "</table>\n",
       "</div>"
      ],
      "text/plain": [
       "                                      Tagging_Accuracy\n",
       "Tagging_Algorithm                                     \n",
       "Vanilla Viterbi                               0.900763\n",
       "Vanilla Viterbi Modified                      0.938931\n",
       "Unigram Tagger                               89.161685\n",
       "Rule Based + Unigram                         93.027474\n",
       "Bigram Tagger + Rule Based + Unigram         93.383489\n",
       "Viterbi + Bigram_tagger                      97.709924"
      ]
     },
     "execution_count": 34,
     "metadata": {},
     "output_type": "execute_result"
    }
   ],
   "source": [
    "comparing_acccuracy = [['Vanilla Viterbi', vanilla_viterbi_accuracy], \n",
    "                  ['Vanilla Viterbi Modified', vanilla_viterbi_modified_accuracy], \n",
    "                  ['Unigram Tagger', unigram_tagger_accuracy * 100],\n",
    "                  ['Rule Based + Unigram', rule_based_unigram_tagger_accuracy * 100],\n",
    "                  ['Bigram Tagger + Rule Based + Unigram', bigram_rule_based_unigram_tagger_accuracy*100],\n",
    "                  ['Viterbi + Bigram_tagger', viterbi_bigram_accuracy]]\n",
    "\n",
    "comparing_acccuracy_df = pd.DataFrame(comparing_acccuracy, columns = ['Tagging_Algorithm', 'Tagging_Accuracy'])\n",
    "\n",
    "comparing_acccuracy_df.set_index('Tagging_Algorithm', drop = True, inplace = True)\n",
    "\n",
    "comparing_acccuracy_df"
   ]
  },
  {
   "cell_type": "markdown",
   "metadata": {},
   "source": [
    "## List down cases which were incorrectly tagged by original POS tagger and got corrected by your modifications"
   ]
  },
  {
   "cell_type": "code",
   "execution_count": 35,
   "metadata": {},
   "outputs": [
    {
     "name": "stdout",
     "output_type": "stream",
     "text": [
      "[('Android', 'DET'), ('has', 'VERB'), ('been', 'VERB'), ('the', 'DET'), ('best-selling', 'DET'), ('OS', 'DET'), ('worldwide', 'DET'), ('on', 'ADP'), ('smartphones', 'DET'), ('since', 'ADP'), ('2011', 'DET'), ('and', 'CONJ'), ('on', 'ADP'), ('tablets', 'DET'), ('since', 'ADP'), ('2013', 'DET'), ('.', '.')]\n"
     ]
    }
   ],
   "source": [
    "sent_test_1 = 'Android has been the best-selling OS worldwide on smartphones since 2011 and on tablets since 2013.'\n",
    "words = word_tokenize(sent_test_1)\n",
    "tagged_seq_viterbi = Viterbi(words)\n",
    "print(tagged_seq_viterbi)"
   ]
  },
  {
   "cell_type": "code",
   "execution_count": 36,
   "metadata": {},
   "outputs": [
    {
     "name": "stdout",
     "output_type": "stream",
     "text": [
      "[('Android', 'NOUN'), ('has', 'VERB'), ('been', 'VERB'), ('the', 'DET'), ('best-selling', 'ADJ'), ('OS', 'NOUN'), ('worldwide', 'NOUN'), ('on', 'ADP'), ('smartphones', 'VERB'), ('since', 'ADP'), ('2011', 'NUM'), ('and', 'CONJ'), ('on', 'ADP'), ('tablets', 'NOUN'), ('since', 'ADP'), ('2013', 'NUM'), ('.', '.')]\n"
     ]
    }
   ],
   "source": [
    "tagged_seq_viterbi_bigram_tagger = Viterbi_Bigram_Tagger(words)\n",
    "print(tagged_seq_viterbi_bigram_tagger)"
   ]
  },
  {
   "cell_type": "code",
   "execution_count": 37,
   "metadata": {},
   "outputs": [
    {
     "name": "stdout",
     "output_type": "stream",
     "text": [
      "[('NASA', 'DET'), ('invited', 'DET'), ('social', 'ADJ'), ('media', 'NOUN'), ('users', 'NOUN'), ('to', 'PRT'), ('experience', 'NOUN'), ('the', 'DET'), ('launch', 'NOUN'), ('of', 'ADP'), ('ICESAT-2', 'DET'), ('Satellite', 'DET'), ('.', '.')]\n"
     ]
    }
   ],
   "source": [
    "sent_test_2 = 'NASA invited social media users to experience the launch of ICESAT-2 Satellite.'\n",
    "words = word_tokenize(sent_test_2)\n",
    "tagged_seq_viterbi = Viterbi(words)\n",
    "print(tagged_seq_viterbi)"
   ]
  },
  {
   "cell_type": "code",
   "execution_count": 38,
   "metadata": {},
   "outputs": [
    {
     "name": "stdout",
     "output_type": "stream",
     "text": [
      "[('NASA', 'NOUN'), ('invited', 'VERB'), ('social', 'ADJ'), ('media', 'NOUN'), ('users', 'NOUN'), ('to', 'PRT'), ('experience', 'NOUN'), ('the', 'DET'), ('launch', 'NOUN'), ('of', 'ADP'), ('ICESAT-2', 'NOUN'), ('Satellite', 'NOUN'), ('.', '.')]\n"
     ]
    }
   ],
   "source": [
    "tagged_seq_viterbi_bigram_tagger = Viterbi_Bigram_Tagger(words)\n",
    "print(tagged_seq_viterbi_bigram_tagger)"
   ]
  },
  {
   "cell_type": "code",
   "execution_count": 39,
   "metadata": {},
   "outputs": [
    {
     "name": "stdout",
     "output_type": "stream",
     "text": [
      "[('The', 'DET'), ('2018', 'DET'), ('FIFA', 'DET'), ('World', 'NOUN'), ('Cup', 'DET'), ('is', 'VERB'), ('the', 'DET'), ('21st', 'DET'), ('FIFA', 'DET'), ('World', 'NOUN'), ('Cup', 'DET'), (',', '.'), ('an', 'DET'), ('international', 'ADJ'), ('football', 'NOUN'), ('tournament', 'DET'), ('contested', 'DET'), ('once', 'ADV'), ('every', 'DET'), ('four', 'NUM'), ('years', 'NOUN'), ('.', '.')]\n"
     ]
    }
   ],
   "source": [
    "sent_test_3 = 'The 2018 FIFA World Cup is the 21st FIFA World Cup, an international football tournament contested once every four years.'\n",
    "words = word_tokenize(sent_test_3)\n",
    "tagged_seq_viterbi = Viterbi(words)\n",
    "print(tagged_seq_viterbi)"
   ]
  },
  {
   "cell_type": "code",
   "execution_count": 40,
   "metadata": {},
   "outputs": [
    {
     "name": "stdout",
     "output_type": "stream",
     "text": [
      "[('The', 'DET'), ('2018', 'NUM'), ('FIFA', 'NOUN'), ('World', 'NOUN'), ('Cup', 'NOUN'), ('is', 'VERB'), ('the', 'DET'), ('21st', 'NUM'), ('FIFA', 'NOUN'), ('World', 'NOUN'), ('Cup', 'NOUN'), (',', '.'), ('an', 'DET'), ('international', 'ADJ'), ('football', 'NOUN'), ('tournament', 'NOUN'), ('contested', 'VERB'), ('once', 'ADV'), ('every', 'DET'), ('four', 'NUM'), ('years', 'NOUN'), ('.', '.')]\n"
     ]
    }
   ],
   "source": [
    "tagged_seq_viterbi_bigram_tagger = Viterbi_Bigram_Tagger(words)\n",
    "print(tagged_seq_viterbi_bigram_tagger)"
   ]
  },
  {
   "cell_type": "markdown",
   "metadata": {},
   "source": [
    "Below is the analysis:\n",
    "\n",
    "- The words Android, OS, NASA, ICESAT-2, Satellite, FIFA were incorrectly tagged which got corrected as NOUN\n",
    "- The words 2013, 2011, 2018 were incorrectly tagged which got corrected as NUM\n",
    "- The word best-selling was incorrectly tagged which got corrected as ADJ"
   ]
  },
  {
   "cell_type": "code",
   "execution_count": null,
   "metadata": {},
   "outputs": [],
   "source": []
  }
 ],
 "metadata": {
  "kernelspec": {
   "display_name": "Python 3",
   "language": "python",
   "name": "python3"
  },
  "language_info": {
   "codemirror_mode": {
    "name": "ipython",
    "version": 3
   },
   "file_extension": ".py",
   "mimetype": "text/x-python",
   "name": "python",
   "nbconvert_exporter": "python",
   "pygments_lexer": "ipython3",
   "version": "3.8.3"
  }
 },
 "nbformat": 4,
 "nbformat_minor": 2
}
